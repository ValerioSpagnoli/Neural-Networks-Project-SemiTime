{
 "cells": [
  {
   "cell_type": "code",
   "execution_count": 23,
   "metadata": {},
   "outputs": [],
   "source": [
    "import pandas as pd\n",
    "import numpy as np\n",
    "from scipy.io.arff import loadarff\n",
    "import seaborn as sns\n",
    "import matplotlib.pyplot as plt"
   ]
  },
  {
   "cell_type": "code",
   "execution_count": 40,
   "metadata": {},
   "outputs": [],
   "source": [
    "csv_train_cricketX = '../Datasets/CricketX/CricketX_TRAIN.arff'\n",
    "csv_test_cricketX = '../Datasets/CricketX/CricketX_TEST.arff'\n",
    "\n",
    "csv_train_insectWingbeat = '../Datasets/InsectWingbeat/InsectWingbeat_TRAIN.arff'\n",
    "csv_test_insectWingbeat = '../Datasets/InsectWingbeat/InsectWingbeat_TEST.arff'\n",
    "\n",
    "csv_train_UWaveGestureLibraryAll = '../Datasets/UWaveGestureLibraryAll/UWaveGestureLibraryAll_TRAIN.arff'\n",
    "csv_test_UWaveGestureLibraryAll = '../Datasets/UWaveGestureLibraryAll/UWaveGestureLibraryAll_TEST.arff'"
   ]
  },
  {
   "cell_type": "code",
   "execution_count": 44,
   "metadata": {},
   "outputs": [],
   "source": [
    "def get_dataframe(path_csv = None):\n",
    "    data = loadarff(path_csv)\n",
    "    df = pd.DataFrame(data[0])\n",
    "    sns.histplot(data=df, x=df['target'])\n",
    "    return df\n"
   ]
  },
  {
   "cell_type": "code",
   "execution_count": 47,
   "metadata": {},
   "outputs": [
    {
     "data": {
      "text/html": [
       "<div>\n",
       "<style scoped>\n",
       "    .dataframe tbody tr th:only-of-type {\n",
       "        vertical-align: middle;\n",
       "    }\n",
       "\n",
       "    .dataframe tbody tr th {\n",
       "        vertical-align: top;\n",
       "    }\n",
       "\n",
       "    .dataframe thead th {\n",
       "        text-align: right;\n",
       "    }\n",
       "</style>\n",
       "<table border=\"1\" class=\"dataframe\">\n",
       "  <thead>\n",
       "    <tr style=\"text-align: right;\">\n",
       "      <th></th>\n",
       "      <th>relationalAtt</th>\n",
       "      <th>target</th>\n",
       "    </tr>\n",
       "  </thead>\n",
       "  <tbody>\n",
       "    <tr>\n",
       "      <th>0</th>\n",
       "      <td>[[-0.000526, -0.00068, -0.010782, 0.024827, 0....</td>\n",
       "      <td>b'Aedes_female'</td>\n",
       "    </tr>\n",
       "    <tr>\n",
       "      <th>1</th>\n",
       "      <td>[[0.000128, -0.015516, 0.420824, -2.165095, 0....</td>\n",
       "      <td>b'Aedes_female'</td>\n",
       "    </tr>\n",
       "    <tr>\n",
       "      <th>2</th>\n",
       "      <td>[[0.291065, 0.245734, -1.152119, 0.726555, -0....</td>\n",
       "      <td>b'Aedes_female'</td>\n",
       "    </tr>\n",
       "    <tr>\n",
       "      <th>3</th>\n",
       "      <td>[[-1.053264, -1.816865, -0.668877, 2.371369, 0...</td>\n",
       "      <td>b'Aedes_female'</td>\n",
       "    </tr>\n",
       "    <tr>\n",
       "      <th>4</th>\n",
       "      <td>[[-0.000148, 0.001234, 1.095719, -3.872666, 2....</td>\n",
       "      <td>b'Aedes_female'</td>\n",
       "    </tr>\n",
       "    <tr>\n",
       "      <th>...</th>\n",
       "      <td>...</td>\n",
       "      <td>...</td>\n",
       "    </tr>\n",
       "    <tr>\n",
       "      <th>24995</th>\n",
       "      <td>[[0.003603, -4.953221, -2.298375, 0.363572, -0...</td>\n",
       "      <td>b'Tarsalis_male'</td>\n",
       "    </tr>\n",
       "    <tr>\n",
       "      <th>24996</th>\n",
       "      <td>[[0.017123, 1.368301, -1.971743, -5.793293, 6....</td>\n",
       "      <td>b'Tarsalis_male'</td>\n",
       "    </tr>\n",
       "    <tr>\n",
       "      <th>24997</th>\n",
       "      <td>[[4e-05, 1.7e-05, -0.010634, 0.045419, -0.0718...</td>\n",
       "      <td>b'Tarsalis_male'</td>\n",
       "    </tr>\n",
       "    <tr>\n",
       "      <th>24998</th>\n",
       "      <td>[[-0.008694, -0.068009, -0.005761, 1.191404, 2...</td>\n",
       "      <td>b'Tarsalis_male'</td>\n",
       "    </tr>\n",
       "    <tr>\n",
       "      <th>24999</th>\n",
       "      <td>[[1.770196, -0.536304, 0.259928, -0.08278, 0.0...</td>\n",
       "      <td>b'Tarsalis_male'</td>\n",
       "    </tr>\n",
       "  </tbody>\n",
       "</table>\n",
       "<p>25000 rows × 2 columns</p>\n",
       "</div>"
      ],
      "text/plain": [
       "                                           relationalAtt            target\n",
       "0      [[-0.000526, -0.00068, -0.010782, 0.024827, 0....   b'Aedes_female'\n",
       "1      [[0.000128, -0.015516, 0.420824, -2.165095, 0....   b'Aedes_female'\n",
       "2      [[0.291065, 0.245734, -1.152119, 0.726555, -0....   b'Aedes_female'\n",
       "3      [[-1.053264, -1.816865, -0.668877, 2.371369, 0...   b'Aedes_female'\n",
       "4      [[-0.000148, 0.001234, 1.095719, -3.872666, 2....   b'Aedes_female'\n",
       "...                                                  ...               ...\n",
       "24995  [[0.003603, -4.953221, -2.298375, 0.363572, -0...  b'Tarsalis_male'\n",
       "24996  [[0.017123, 1.368301, -1.971743, -5.793293, 6....  b'Tarsalis_male'\n",
       "24997  [[4e-05, 1.7e-05, -0.010634, 0.045419, -0.0718...  b'Tarsalis_male'\n",
       "24998  [[-0.008694, -0.068009, -0.005761, 1.191404, 2...  b'Tarsalis_male'\n",
       "24999  [[1.770196, -0.536304, 0.259928, -0.08278, 0.0...  b'Tarsalis_male'\n",
       "\n",
       "[25000 rows x 2 columns]"
      ]
     },
     "execution_count": 47,
     "metadata": {},
     "output_type": "execute_result"
    },
    {
     "data": {
      "image/png": "[encoded data removed]",
      "text/plain": [
       "<Figure size 640x480 with 1 Axes>"
      ]
     },
     "metadata": {},
     "output_type": "display_data"
    }
   ],
   "source": [
    "get_dataframe(path_csv=csv_train_insectWingbeat)"
   ]
  }
 ],
 "metadata": {
  "kernelspec": {
   "display_name": "Python 3",
   "language": "python",
   "name": "python3"
  },
  "language_info": {
   "codemirror_mode": {
    "name": "ipython",
    "version": 3
   },
   "file_extension": ".py",
   "mimetype": "text/x-python",
   "name": "python",
   "nbconvert_exporter": "python",
   "pygments_lexer": "ipython3",
   "version": "3.9.6"
  },
  "orig_nbformat": 4,
  "vscode": {
   "interpreter": {
    "hash": "31f2aee4e71d21fbe5cf8b01ff0e069b9275f58929596ceb00d14d90e3e16cd6"
   }
  }
 },
 "nbformat": 4,
 "nbformat_minor": 2
}
